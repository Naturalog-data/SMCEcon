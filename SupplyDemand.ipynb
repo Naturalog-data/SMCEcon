{
 "cells": [
  {
   "cell_type": "markdown",
   "id": "a3c19006-53ef-40bc-b24f-dc846c992f9a",
   "metadata": {},
   "source": [
    "something about econ is weird it assumes that it occurs this way\n",
    "\n",
    "if the price of something goes up\n",
    "then it is assumed that manufacturers make more\n",
    "\n",
    "but if there is a surplus of supply\n",
    "    the cost of items drop\n",
    "\n",
    "the simple idealistic thinking of the problems presented assumes there is infinite demand"
   ]
  },
  {
   "cell_type": "markdown",
   "id": "51fec6ee-a77f-4e7d-9536-27d6c828da60",
   "metadata": {},
   "source": [
    "the demand curve exhibits\n",
    "-$10 per 20 qty\n",
    "price = 100-q/2\n",
    "quantity = 200 - 2p"
   ]
  },
  {
   "cell_type": "code",
   "execution_count": 6,
   "id": "3455d025-a3a9-4a89-aed5-0bb22720e5d7",
   "metadata": {},
   "outputs": [
    {
     "data": {
      "text/plain": [
       "-10"
      ]
     },
     "execution_count": 6,
     "metadata": {},
     "output_type": "execute_result"
    }
   ],
   "source": [
    "p(q) = 100-q/2\n",
    "p(50)-f(45)\n",
    "q(p) = 200-2p\n",
    "q(50)-q(45)\n"
   ]
  },
  {
   "cell_type": "markdown",
   "id": "78f95635-a2f9-4d57-92bb-f2036b750e7e",
   "metadata": {},
   "source": [
    "whats weird about econ is that the graphs dont mean much without the context\n",
    "\n",
    "if the context is a decrease price\n",
    "    then the quantity is supposedly decreased? wouldnt people buy more? If in the perspective of the market and the manufacturer having less incentive to create cars. That would be making more sense\n",
    "if the context is there are less people buying\n",
    "    then the price would drop to encourage buyers\n",
    "but then again this is microecon the perspectives are different with microecon\n",
    "ehhh\n",
    "i still see a disconnect with reality in some of these analysis\n",
    "\n",
    "    "
   ]
  }
 ],
 "metadata": {
  "kernelspec": {
   "display_name": "Julia 1.7.2",
   "language": "julia",
   "name": "julia-1.7"
  },
  "language_info": {
   "file_extension": ".jl",
   "mimetype": "application/julia",
   "name": "julia",
   "version": "1.7.2"
  }
 },
 "nbformat": 4,
 "nbformat_minor": 5
}
